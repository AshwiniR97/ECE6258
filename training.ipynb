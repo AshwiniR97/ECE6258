{
  "nbformat": 4,
  "nbformat_minor": 0,
  "metadata": {
    "colab": {
      "name": "training.ipynb",
      "provenance": [],
      "collapsed_sections": []
    },
    "kernelspec": {
      "name": "python3",
      "display_name": "Python 3"
    }
  },
  "cells": [
    {
      "cell_type": "code",
      "metadata": {
        "id": "ikniK5ZuokQm",
        "colab_type": "code",
        "colab": {}
      },
      "source": [
        "import tensorflow as tf\n",
        "from tensorflow import keras\n",
        "from tensorflow.keras.applications.resnet50 import ResNet50\n",
        "from tensorflow.keras.preprocessing import image\n",
        "from tensorflow.keras.models import model_from_json\n",
        "from tensorflow.keras.callbacks import ModelCheckpoint\n",
        "import numpy as np\n",
        "from matplotlib import pyplot as plt\n",
        "import os\n",
        "import cv2\n",
        "from random import shuffle"
      ],
      "execution_count": null,
      "outputs": []
    },
    {
      "cell_type": "code",
      "metadata": {
        "id": "TwG0u7zFuqqf",
        "colab_type": "code",
        "colab": {}
      },
      "source": [
        "# Change directories here\n",
        "mainDir = \"/content/drive/My Drive/pokeData/Final Project Combined\"\n",
        "folder = \"cropped_data\"\n",
        "\n",
        "# Change between \"training\" (for no augmented data) and \"newTraining\" (for augmented data)\n",
        "typeO = \"newTraining\"\n",
        "\n",
        "# The best weight file and model saved within the directory\n",
        "filepath=os.path.join(mainDir, folder, typeO, \"weights.best.h5\")\n",
        "modelPath = os.path.join(mainDir, folder, typeO, \"model.json\")\n",
        "weightFile = os.path.join(mainDir, folder, typeO, \"weights.h5\")"
      ],
      "execution_count": null,
      "outputs": []
    },
    {
      "cell_type": "code",
      "metadata": {
        "id": "8IV0ihtvo6T0",
        "colab_type": "code",
        "colab": {}
      },
      "source": [
        "DATADIR = os.path.join(mainDir, folder, typeO)\n",
        "CATEGORIES_train = [\"pikachu\", \"bulbasaur\", \"squirtle\", \"charmander\", \"meowth\"]"
      ],
      "execution_count": null,
      "outputs": []
    },
    {
      "cell_type": "code",
      "metadata": {
        "id": "-Sz9UB2xo_WE",
        "colab_type": "code",
        "colab": {}
      },
      "source": [
        "# Image resized to 224x224x3 that is the ResNet50 input requirements\n",
        "IMG_SIZE = 224\n",
        "training_data = []\n",
        "\n",
        "def create_training_data():\n",
        "  \"\"\"\n",
        "  Function reads through all the available images in each Pokemon directory,\n",
        "  resizes according to requirement and appends to training_data along with the class number.\n",
        "  \"\"\"\n",
        "  for category in CATEGORIES_train:\n",
        "    path = os.path.join(DATADIR, category)\n",
        "    class_num = CATEGORIES_train.index(category)\n",
        "    for img in os.listdir(path):\n",
        "      try:\n",
        "        img_array = cv2.imread(os.path.join(path, img))\n",
        "        new_array = cv2.resize(img_array, (IMG_SIZE, IMG_SIZE))\n",
        "        training_data.append([new_array, class_num])\n",
        "      except Exception as e:\n",
        "        pass\n",
        "\n",
        "create_training_data()"
      ],
      "execution_count": null,
      "outputs": []
    },
    {
      "cell_type": "code",
      "metadata": {
        "id": "G5hMeBUapIRl",
        "colab_type": "code",
        "colab": {}
      },
      "source": [
        "X = []\n",
        "Y = []\n",
        "\n",
        "# Training data is shuffled so that the network gets random images and\n",
        "# not each pokemon in a sequence.\n",
        "shuffle(training_data)"
      ],
      "execution_count": null,
      "outputs": []
    },
    {
      "cell_type": "code",
      "metadata": {
        "id": "e4bd7erXpNPE",
        "colab_type": "code",
        "colab": {}
      },
      "source": [
        "# Splitting the image data and the label to two separate lists.\n",
        "for features, label in training_data:\n",
        "  X.append(features)\n",
        "  Y.append(label)"
      ],
      "execution_count": null,
      "outputs": []
    },
    {
      "cell_type": "code",
      "metadata": {
        "id": "lwEZg18XpRq_",
        "colab_type": "code",
        "colab": {}
      },
      "source": [
        "X = np.array(X).reshape(-1, IMG_SIZE, IMG_SIZE, 3)\n",
        "Y = np.array(Y)"
      ],
      "execution_count": null,
      "outputs": []
    },
    {
      "cell_type": "code",
      "metadata": {
        "id": "8_OLPGo_pUGk",
        "colab_type": "code",
        "colab": {}
      },
      "source": [
        "# Downloading the ResNet50 model comprising of all the weights from the ImageNet database\n",
        "pretrained_model = ResNet50(input_shape = [IMG_SIZE, IMG_SIZE, 3], weights='imagenet', include_top = False)\n",
        "pretrained_model.trainable = False"
      ],
      "execution_count": null,
      "outputs": []
    },
    {
      "cell_type": "code",
      "metadata": {
        "id": "emlR04w2ASgR",
        "colab_type": "code",
        "colab": {}
      },
      "source": [
        "# Designing the layers of our model\n",
        "model = keras.Sequential([\n",
        "                          pretrained_model,\n",
        "                          keras.layers.Flatten(),\n",
        "                          keras.layers.Dense(5, activation=tf.nn.softmax)\n",
        "])"
      ],
      "execution_count": null,
      "outputs": []
    },
    {
      "cell_type": "code",
      "metadata": {
        "id": "zZryRlXWAgT6",
        "colab_type": "code",
        "colab": {}
      },
      "source": [
        "# Compiling our model with Adam optimizer and crossentropy loss function\n",
        "model.compile(optimizer='adam', \n",
        "              loss='sparse_categorical_crossentropy',\n",
        "              metrics=['accuracy'])"
      ],
      "execution_count": null,
      "outputs": []
    },
    {
      "cell_type": "code",
      "metadata": {
        "id": "bDTVqXPHt4yn",
        "colab_type": "code",
        "colab": {}
      },
      "source": [
        "# Creating a checkpoint function on the basis of validation accuracy of the model\n",
        "checkpoint = ModelCheckpoint(filepath, monitor='val_accuracy', verbose=1, save_best_only=True, mode='max')\n",
        "\n",
        "# An increase in the validation accuracy makes the program save the new weight file\n",
        "# The best weight file is then used in the testing process\n",
        "callbacks_list = [checkpoint]"
      ],
      "execution_count": null,
      "outputs": []
    },
    {
      "cell_type": "code",
      "metadata": {
        "id": "Vet2rYmRpfNm",
        "colab_type": "code",
        "colab": {
          "base_uri": "https://localhost:8080/",
          "height": 1000
        },
        "outputId": "931133be-5c18-4155-9ddd-1ab00e05f0e0"
      },
      "source": [
        "# Fitting the model using 33% of dataset as Validation data\n",
        "model.fit(X, Y, validation_split=0.33, epochs=50, callbacks=callbacks_list, verbose=1)"
      ],
      "execution_count": null,
      "outputs": [
        {
          "output_type": "stream",
          "text": [
            "Epoch 1/50\n",
            "36/36 [==============================] - ETA: 0s - loss: 3.5758 - accuracy: 0.7908\n",
            "Epoch 00001: val_accuracy improved from -inf to 0.96655, saving model to /content/drive/My Drive/pokeData/Final Project Combined/cropped_data/newTraining/weights.best.h5\n",
            "36/36 [==============================] - 231s 6s/step - loss: 3.5758 - accuracy: 0.7908 - val_loss: 0.3453 - val_accuracy: 0.9665\n",
            "Epoch 2/50\n",
            "36/36 [==============================] - ETA: 0s - loss: 0.0678 - accuracy: 0.9913\n",
            "Epoch 00002: val_accuracy improved from 0.96655 to 0.98063, saving model to /content/drive/My Drive/pokeData/Final Project Combined/cropped_data/newTraining/weights.best.h5\n",
            "36/36 [==============================] - 236s 7s/step - loss: 0.0678 - accuracy: 0.9913 - val_loss: 0.2067 - val_accuracy: 0.9806\n",
            "Epoch 3/50\n",
            "36/36 [==============================] - ETA: 0s - loss: 0.0488 - accuracy: 0.9931\n",
            "Epoch 00003: val_accuracy did not improve from 0.98063\n",
            "36/36 [==============================] - 235s 7s/step - loss: 0.0488 - accuracy: 0.9931 - val_loss: 0.3640 - val_accuracy: 0.9648\n",
            "Epoch 4/50\n",
            "36/36 [==============================] - ETA: 0s - loss: 0.0187 - accuracy: 0.9965\n",
            "Epoch 00004: val_accuracy did not improve from 0.98063\n",
            "36/36 [==============================] - 236s 7s/step - loss: 0.0187 - accuracy: 0.9965 - val_loss: 0.5835 - val_accuracy: 0.9595\n",
            "Epoch 5/50\n",
            "36/36 [==============================] - ETA: 0s - loss: 0.0516 - accuracy: 0.9905\n",
            "Epoch 00005: val_accuracy did not improve from 0.98063\n",
            "36/36 [==============================] - 224s 6s/step - loss: 0.0516 - accuracy: 0.9905 - val_loss: 0.5836 - val_accuracy: 0.9560\n",
            "Epoch 6/50\n",
            "36/36 [==============================] - ETA: 0s - loss: 0.0109 - accuracy: 0.9948\n",
            "Epoch 00006: val_accuracy did not improve from 0.98063\n",
            "36/36 [==============================] - 236s 7s/step - loss: 0.0109 - accuracy: 0.9948 - val_loss: 0.1854 - val_accuracy: 0.9789\n",
            "Epoch 7/50\n",
            "36/36 [==============================] - ETA: 0s - loss: 0.0027 - accuracy: 0.9983\n",
            "Epoch 00007: val_accuracy did not improve from 0.98063\n",
            "36/36 [==============================] - 230s 6s/step - loss: 0.0027 - accuracy: 0.9983 - val_loss: 0.2257 - val_accuracy: 0.9806\n",
            "Epoch 8/50\n",
            "36/36 [==============================] - ETA: 0s - loss: 0.0135 - accuracy: 0.9974\n",
            "Epoch 00008: val_accuracy did not improve from 0.98063\n",
            "36/36 [==============================] - 213s 6s/step - loss: 0.0135 - accuracy: 0.9974 - val_loss: 0.2356 - val_accuracy: 0.9806\n",
            "Epoch 9/50\n",
            "36/36 [==============================] - ETA: 0s - loss: 0.0021 - accuracy: 0.9983\n",
            "Epoch 00009: val_accuracy improved from 0.98063 to 0.98415, saving model to /content/drive/My Drive/pokeData/Final Project Combined/cropped_data/newTraining/weights.best.h5\n",
            "36/36 [==============================] - 224s 6s/step - loss: 0.0021 - accuracy: 0.9983 - val_loss: 0.1297 - val_accuracy: 0.9842\n",
            "Epoch 10/50\n",
            "36/36 [==============================] - ETA: 0s - loss: 2.4993e-05 - accuracy: 1.0000\n",
            "Epoch 00010: val_accuracy did not improve from 0.98415\n",
            "36/36 [==============================] - 218s 6s/step - loss: 2.4993e-05 - accuracy: 1.0000 - val_loss: 0.1405 - val_accuracy: 0.9806\n",
            "Epoch 11/50\n",
            "36/36 [==============================] - ETA: 0s - loss: 9.4035e-07 - accuracy: 1.0000\n",
            "Epoch 00011: val_accuracy did not improve from 0.98415\n",
            "36/36 [==============================] - 229s 6s/step - loss: 9.4035e-07 - accuracy: 1.0000 - val_loss: 0.1402 - val_accuracy: 0.9806\n",
            "Epoch 12/50\n",
            "36/36 [==============================] - ETA: 0s - loss: 6.5704e-07 - accuracy: 1.0000\n",
            "Epoch 00012: val_accuracy did not improve from 0.98415\n",
            "36/36 [==============================] - 231s 6s/step - loss: 6.5704e-07 - accuracy: 1.0000 - val_loss: 0.1397 - val_accuracy: 0.9806\n",
            "Epoch 13/50\n",
            "36/36 [==============================] - ETA: 0s - loss: 5.3754e-07 - accuracy: 1.0000\n",
            "Epoch 00013: val_accuracy did not improve from 0.98415\n",
            "36/36 [==============================] - 233s 6s/step - loss: 5.3754e-07 - accuracy: 1.0000 - val_loss: 0.1394 - val_accuracy: 0.9806\n",
            "Epoch 14/50\n",
            "36/36 [==============================] - ETA: 0s - loss: 4.6388e-07 - accuracy: 1.0000\n",
            "Epoch 00014: val_accuracy did not improve from 0.98415\n",
            "36/36 [==============================] - 237s 7s/step - loss: 4.6388e-07 - accuracy: 1.0000 - val_loss: 0.1390 - val_accuracy: 0.9824\n",
            "Epoch 15/50\n",
            "36/36 [==============================] - ETA: 0s - loss: 4.0780e-07 - accuracy: 1.0000\n",
            "Epoch 00015: val_accuracy did not improve from 0.98415\n",
            "36/36 [==============================] - 237s 7s/step - loss: 4.0780e-07 - accuracy: 1.0000 - val_loss: 0.1386 - val_accuracy: 0.9824\n",
            "Epoch 16/50\n",
            "36/36 [==============================] - ETA: 0s - loss: 3.6889e-07 - accuracy: 1.0000\n",
            "Epoch 00016: val_accuracy did not improve from 0.98415\n",
            "36/36 [==============================] - 234s 7s/step - loss: 3.6889e-07 - accuracy: 1.0000 - val_loss: 0.1383 - val_accuracy: 0.9824\n",
            "Epoch 17/50\n",
            "36/36 [==============================] - ETA: 0s - loss: 3.3578e-07 - accuracy: 1.0000\n",
            "Epoch 00017: val_accuracy did not improve from 0.98415\n",
            "36/36 [==============================] - 229s 6s/step - loss: 3.3578e-07 - accuracy: 1.0000 - val_loss: 0.1380 - val_accuracy: 0.9824\n",
            "Epoch 18/50\n",
            "36/36 [==============================] - ETA: 0s - loss: 3.0578e-07 - accuracy: 1.0000\n",
            "Epoch 00018: val_accuracy did not improve from 0.98415\n",
            "36/36 [==============================] - 228s 6s/step - loss: 3.0578e-07 - accuracy: 1.0000 - val_loss: 0.1378 - val_accuracy: 0.9824\n",
            "Epoch 19/50\n",
            "36/36 [==============================] - ETA: 0s - loss: 2.8715e-07 - accuracy: 1.0000\n",
            "Epoch 00019: val_accuracy did not improve from 0.98415\n",
            "36/36 [==============================] - 231s 6s/step - loss: 2.8715e-07 - accuracy: 1.0000 - val_loss: 0.1376 - val_accuracy: 0.9824\n",
            "Epoch 20/50\n",
            "36/36 [==============================] - ETA: 0s - loss: 2.6449e-07 - accuracy: 1.0000"
          ],
          "name": "stdout"
        }
      ]
    },
    {
      "cell_type": "code",
      "metadata": {
        "id": "Jt2VBiiFMGVL",
        "colab_type": "code",
        "colab": {}
      },
      "source": [
        "# Making model and weight files so that test can access it\n",
        "model_json = model.to_json()\n",
        "with open(modelPath, \"w\") as json_file:\n",
        "    json_file.write(model_json)\n",
        "# Serialize weights to HDF5\n",
        "model.save_weights(weightFile)\n",
        "print(\"Saved model and weights to disk\")"
      ],
      "execution_count": null,
      "outputs": []
    },
    {
      "cell_type": "code",
      "metadata": {
        "id": "sxdj4BdJOSAn",
        "colab_type": "code",
        "colab": {}
      },
      "source": [
        "%reset"
      ],
      "execution_count": null,
      "outputs": []
    }
  ]
}