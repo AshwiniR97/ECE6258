{
  "nbformat": 4,
  "nbformat_minor": 0,
  "metadata": {
    "colab": {
      "name": "imageGenerator.ipynb",
      "provenance": [],
      "collapsed_sections": [],
      "authorship_tag": "ABX9TyNp7MLsNXauNOsEek3lz0yL"
    },
    "kernelspec": {
      "name": "python3",
      "display_name": "Python 3"
    }
  },
  "cells": [
    {
      "cell_type": "code",
      "metadata": {
        "id": "NLJ_k_v_OoDR",
        "colab_type": "code",
        "colab": {}
      },
      "source": [
        "import tensorflow as tf\n",
        "from tensorflow import keras\n",
        "from tensorflow.keras.preprocessing.image import ImageDataGenerator, array_to_img, img_to_array, load_img\n",
        "from tensorflow.keras.models import model_from_json\n",
        "from tensorflow.keras.callbacks import ModelCheckpoint\n",
        "import numpy as np\n",
        "from matplotlib import pyplot as plt\n",
        "import os\n",
        "import cv2\n",
        "from random import shuffle"
      ],
      "execution_count": null,
      "outputs": []
    },
    {
      "cell_type": "code",
      "metadata": {
        "id": "rONF7txRJKuw",
        "colab_type": "code",
        "colab": {}
      },
      "source": [
        "\"\"\"\n",
        "Using the Image Data Generator class to make a series of distortions on \n",
        "the original image to generate a new image.\n",
        "\"\"\"\n",
        "datagen = ImageDataGenerator(\n",
        "        rotation_range=40,\n",
        "        width_shift_range=0.2,\n",
        "        height_shift_range=0.2,\n",
        "        rescale=1./255,\n",
        "        shear_range=0.2,\n",
        "        zoom_range=0.2,\n",
        "        horizontal_flip=True,\n",
        "        fill_mode='nearest')"
      ],
      "execution_count": null,
      "outputs": []
    },
    {
      "cell_type": "code",
      "metadata": {
        "id": "ty2ulfuRJ0fV",
        "colab_type": "code",
        "colab": {}
      },
      "source": [
        "# Change directories here\n",
        "\n",
        "# The folder that needs Data Augmentation - Choose from \"original_data\", \"hpf_data\", \n",
        "# binary_data\", \"edge_data\", \"blur_data\" and \"cropped_data\"\n",
        "folder = \"original_data\"\n",
        "\n",
        "# Main Directory\n",
        "mainDir = \"/content/drive/My Drive/pokeData/Final Project Combined\"\n",
        "\n",
        "# Origin and Destination directories\n",
        "dataDir = os.path.join(mainDir, folder, \"training\")\n",
        "saveDir = os.path.join(mainDir, folder, \"newTraining\")\n",
        "\n",
        "# Every class/pokemon to be altered\n",
        "categories = [\"bulbasaur\", \"pikachu\", \"squirtle\", \"meowth\", \"charmander\"]"
      ],
      "execution_count": null,
      "outputs": []
    },
    {
      "cell_type": "code",
      "metadata": {
        "id": "EtFo3g1MlaD2",
        "colab_type": "code",
        "colab": {}
      },
      "source": [
        "# Generating a new directory to save new images\n",
        "if not os.path.isdir(saveDir):\n",
        "  os.mkdir(saveDir)\n",
        "  for poke in categories:\n",
        "    os.mkdir(os.path.join(saveDir, poke))"
      ],
      "execution_count": null,
      "outputs": []
    },
    {
      "cell_type": "code",
      "metadata": {
        "id": "qbytI0rRVDZp",
        "colab_type": "code",
        "colab": {}
      },
      "source": [
        "# Going through each image, generating 10 images of unique distortions listed in the \n",
        "# ImageGenerator class and savin them in the new directory\n",
        "for category in categories:\n",
        "  for image in os.listdir(os.path.join(dataDir, category)):\n",
        "    os.chdir(os.path.join(dataDir, category))\n",
        "    img = load_img(image)\n",
        "    x = img_to_array(img)\n",
        "    x = x.reshape((1, ) + x.shape)\n",
        "    i = 0\n",
        "    for batch in datagen.flow(x, batch_size=1, save_format='jpeg'):\n",
        "      i+=1\n",
        "      newim = batch[0, :, :, ::-1] * 255\n",
        "      os.chdir(os.path.join(saveDir, category)) \n",
        "      cv2.imwrite(str(image) + str(i) + \".png\", newim)\n",
        "      if i>9:\n",
        "        break"
      ],
      "execution_count": null,
      "outputs": []
    }
  ]
}